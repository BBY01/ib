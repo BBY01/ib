{
 "cells": [
  {
   "cell_type": "code",
   "execution_count": null,
   "id": "706f44a9-8137-42ab-8801-8ea4f2eb3e8f",
   "metadata": {},
   "outputs": [],
   "source": [
    "from ib_insync import *\n",
    "from tqdm import tqdm\n",
    "import pandas as pd  # Pandasライブラリをインポート\n",
    "import random\n",
    "import time\n",
    "util.startLoop()\n",
    "ib = IB()\n",
    "ib.connect('127.0.0.1', 7496, clientId=random.randint(0, 29))\n",
    "#VIXオプションのアクティブな限月を確認（昇順）\n",
    "contract = Option(\"VIX\", \"\", \"18.0\", 'P', 'SMART')\n",
    "Details = ib.reqContractDetails(contract)\n",
    "# 契約の有効期限で昇順に並び替える\n",
    "Details_sorted = sorted(Details, key=lambda x: x.contract.lastTradeDateOrContractMonth)\n",
    "for Detail in Details_sorted:\n",
    "    print(Detail.contract.lastTradeDateOrContractMonth)\n"
   ]
  }
 ],
 "metadata": {
  "kernelspec": {
   "display_name": "ib",
   "language": "python",
   "name": "ib"
  },
  "language_info": {
   "codemirror_mode": {
    "name": "ipython",
    "version": 3
   },
   "file_extension": ".py",
   "mimetype": "text/x-python",
   "name": "python",
   "nbconvert_exporter": "python",
   "pygments_lexer": "ipython3",
   "version": "3.11.4"
  }
 },
 "nbformat": 4,
 "nbformat_minor": 5
}
